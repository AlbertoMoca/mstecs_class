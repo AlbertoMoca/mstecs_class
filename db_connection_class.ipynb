{
 "cells": [
  {
   "cell_type": "code",
   "execution_count": 2,
   "id": "9b6b190b-c631-4d60-b247-d1d6158eca26",
   "metadata": {},
   "outputs": [],
   "source": [
    "import psycopg2\n",
    "import pandas as pd"
   ]
  },
  {
   "cell_type": "code",
   "execution_count": 2,
   "id": "2d0ea33b-f648-4356-90bb-360606b4cd72",
   "metadata": {},
   "outputs": [],
   "source": [
    "# CREATE THE CONNECTION\n",
    "conn = psycopg2.connect(\"host=classmstecs.postgres.database.azure.com port=5432 dbname=class user={...} password={...} sslmode=require\")"
   ]
  },
  {
   "cell_type": "code",
   "execution_count": 3,
   "id": "15842f0d-9400-4dd0-bbb4-5da47567f918",
   "metadata": {},
   "outputs": [],
   "source": [
    "# QUERY DATA\n",
    "with conn.cursor() as cur:\n",
    "    cur.execute(\"\"\"\n",
    "        SELECT \n",
    "            CAST(EXTRACT( 'MONTH' from air_period) AS INT) AS mon,\n",
    "            CAST(AVG(air_passengers) AS INT) AS avg\n",
    "        FROM airline_passengers \n",
    "        GROUP BY mon\n",
    "        ORDER BY mon\n",
    "        ;        \n",
    "    \"\"\")\n",
    "    query_data = cur.fetchall()"
   ]
  },
  {
   "cell_type": "code",
   "execution_count": 11,
   "id": "b0340dee-0887-40b8-a6eb-efb467a0e154",
   "metadata": {},
   "outputs": [
    {
     "data": {
      "text/html": [
       "<div>\n",
       "<style scoped>\n",
       "    .dataframe tbody tr th:only-of-type {\n",
       "        vertical-align: middle;\n",
       "    }\n",
       "\n",
       "    .dataframe tbody tr th {\n",
       "        vertical-align: top;\n",
       "    }\n",
       "\n",
       "    .dataframe thead th {\n",
       "        text-align: right;\n",
       "    }\n",
       "</style>\n",
       "<table border=\"1\" class=\"dataframe\">\n",
       "  <thead>\n",
       "    <tr style=\"text-align: right;\">\n",
       "      <th></th>\n",
       "      <th>month</th>\n",
       "      <th>avg_passenger</th>\n",
       "    </tr>\n",
       "  </thead>\n",
       "  <tbody>\n",
       "    <tr>\n",
       "      <th>0</th>\n",
       "      <td>1</td>\n",
       "      <td>242</td>\n",
       "    </tr>\n",
       "    <tr>\n",
       "      <th>1</th>\n",
       "      <td>2</td>\n",
       "      <td>235</td>\n",
       "    </tr>\n",
       "    <tr>\n",
       "      <th>2</th>\n",
       "      <td>3</td>\n",
       "      <td>270</td>\n",
       "    </tr>\n",
       "    <tr>\n",
       "      <th>3</th>\n",
       "      <td>4</td>\n",
       "      <td>267</td>\n",
       "    </tr>\n",
       "    <tr>\n",
       "      <th>4</th>\n",
       "      <td>5</td>\n",
       "      <td>272</td>\n",
       "    </tr>\n",
       "    <tr>\n",
       "      <th>5</th>\n",
       "      <td>6</td>\n",
       "      <td>312</td>\n",
       "    </tr>\n",
       "    <tr>\n",
       "      <th>6</th>\n",
       "      <td>7</td>\n",
       "      <td>351</td>\n",
       "    </tr>\n",
       "    <tr>\n",
       "      <th>7</th>\n",
       "      <td>8</td>\n",
       "      <td>351</td>\n",
       "    </tr>\n",
       "    <tr>\n",
       "      <th>8</th>\n",
       "      <td>9</td>\n",
       "      <td>302</td>\n",
       "    </tr>\n",
       "    <tr>\n",
       "      <th>9</th>\n",
       "      <td>10</td>\n",
       "      <td>267</td>\n",
       "    </tr>\n",
       "    <tr>\n",
       "      <th>10</th>\n",
       "      <td>11</td>\n",
       "      <td>233</td>\n",
       "    </tr>\n",
       "    <tr>\n",
       "      <th>11</th>\n",
       "      <td>12</td>\n",
       "      <td>262</td>\n",
       "    </tr>\n",
       "  </tbody>\n",
       "</table>\n",
       "</div>"
      ],
      "text/plain": [
       "    month  avg_passenger\n",
       "0       1            242\n",
       "1       2            235\n",
       "2       3            270\n",
       "3       4            267\n",
       "4       5            272\n",
       "5       6            312\n",
       "6       7            351\n",
       "7       8            351\n",
       "8       9            302\n",
       "9      10            267\n",
       "10     11            233\n",
       "11     12            262"
      ]
     },
     "execution_count": 11,
     "metadata": {},
     "output_type": "execute_result"
    }
   ],
   "source": [
    "df = pd.DataFrame(query_data,columns=[\"month\",\"avg_passenger\"])\n",
    "df"
   ]
  },
  {
   "cell_type": "code",
   "execution_count": 12,
   "id": "cd440534-9210-45fa-b947-697c97e4bd5d",
   "metadata": {},
   "outputs": [
    {
     "data": {
      "text/plain": [
       "<AxesSubplot:xlabel='month'>"
      ]
     },
     "execution_count": 12,
     "metadata": {},
     "output_type": "execute_result"
    },
    {
     "data": {
      "image/png": "[encoded data removed]",
      "text/plain": [
       "<Figure size 432x288 with 1 Axes>"
      ]
     },
     "metadata": {
      "needs_background": "light"
     },
     "output_type": "display_data"
    }
   ],
   "source": [
    "df.plot(x=\"month\", y=\"avg_passenger\")"
   ]
  },
  {
   "cell_type": "code",
   "execution_count": null,
   "id": "2aed9683-2c7c-4145-ae7a-45487bd32ecb",
   "metadata": {},
   "outputs": [],
   "source": [
    "# QUERY DATA\n",
    "with conn.cursor() as cur:\n",
    "    cur.execute(\"\"\"\n",
    "        INSERT INTO airline_passengers (air_period,air_passengers)\n",
    "            VALUES(%s,%s)\n",
    "        ;        \n",
    "    \"\"\",('2022',100)\n",
    "    conn.commit()"
   ]
  },
  {
   "cell_type": "code",
   "execution_count": 4,
   "id": "0b332f56-88d2-4774-a702-bc15106df985",
   "metadata": {},
   "outputs": [],
   "source": [
    "conn.close()"
   ]
  },
  {
   "cell_type": "code",
   "execution_count": null,
   "id": "92be9ea6-feeb-455a-b204-646354225bb3",
   "metadata": {},
   "outputs": [],
   "source": []
  },
  {
   "cell_type": "code",
   "execution_count": null,
   "id": "c5d5fcbe-f339-4d67-b67e-5d7ebfe873f8",
   "metadata": {},
   "outputs": [],
   "source": []
  }
 ],
 "metadata": {
  "kernelspec": {
   "display_name": "Python 3",
   "language": "python",
   "name": "python3"
  },
  "language_info": {
   "codemirror_mode": {
    "name": "ipython",
    "version": 3
   },
   "file_extension": ".py",
   "mimetype": "text/x-python",
   "name": "python",
   "nbconvert_exporter": "python",
   "pygments_lexer": "ipython3",
   "version": "3.8.5"
  }
 },
 "nbformat": 4,
 "nbformat_minor": 5
}
